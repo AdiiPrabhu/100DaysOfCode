print('Enter two numbers')
a=int(input())
b=int(input())
print('sum is',a+b)
