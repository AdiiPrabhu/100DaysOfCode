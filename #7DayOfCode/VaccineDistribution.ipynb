{
  "nbformat": 4,
  "nbformat_minor": 0,
  "metadata": {
    "colab": {
      "name": "1.ipynb",
      "provenance": [],
      "authorship_tag": "ABX9TyOr16AWvLJGTuZFbIhZgxEf",
      "include_colab_link": true
    },
    "kernelspec": {
      "display_name": "Python 3",
      "name": "python3"
    }
  },
  "cells": [
    {
      "cell_type": "markdown",
      "metadata": {
        "id": "view-in-github",
        "colab_type": "text"
      },
      "source": [
        "<a href=\"https://colab.research.google.com/github/AdityaPrabhuCS/100DaysOfCode/blob/master/%237DayOfCode/VaccineDistribution.ipynb\" target=\"_parent\"><img src=\"https://colab.research.google.com/assets/colab-badge.svg\" alt=\"Open In Colab\"/></a>"
      ]
    },
    {
      "cell_type": "code",
      "metadata": {
        "colab": {
          "base_uri": "https://localhost:8080/"
        },
        "id": "1E_poBmWr-Zp",
        "outputId": "9304a20b-51d9-4b83-97b2-51af652f9b75"
      },
      "source": [
        "import math\r\n",
        "for i in range(int(input())):\r\n",
        "    n,day = map(int, input().split())\r\n",
        "    age = list(map(int, input().split()))\r\n",
        "    count = 0\r\n",
        "    risk = []\r\n",
        "    norisk = []\r\n",
        "    for j in age:\r\n",
        "        if j>=80 or j<=9:\r\n",
        "            risk.append(j)\r\n",
        "        else:\r\n",
        "            norisk.append(j)\r\n",
        "    print(math.ceil(((len(risk))/day)) + math.ceil((len(norisk))/day))"
      ],
      "execution_count": 7,
      "outputs": [
        {
          "output_type": "stream",
          "text": [
            "2\n",
            "10 1\n",
            "10 20 30 40 50 60 80 90 1\n",
            "9\n",
            "5 2\n",
            "9 8 27 72 89\n",
            "3\n"
          ],
          "name": "stdout"
        }
      ]
    }
  ]
}