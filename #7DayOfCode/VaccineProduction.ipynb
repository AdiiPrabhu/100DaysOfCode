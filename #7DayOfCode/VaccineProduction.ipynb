{
  "nbformat": 4,
  "nbformat_minor": 0,
  "metadata": {
    "colab": {
      "name": "1.ipynb",
      "provenance": [],
      "authorship_tag": "ABX9TyM6T9cYBUzgw0jOkKzm0yCy",
      "include_colab_link": true
    },
    "kernelspec": {
      "display_name": "Python 3",
      "name": "python3"
    }
  },
  "cells": [
    {
      "cell_type": "markdown",
      "metadata": {
        "id": "view-in-github",
        "colab_type": "text"
      },
      "source": [
        "<a href=\"https://colab.research.google.com/github/AdityaPrabhuCS/100DaysOfCode/blob/master/%237DayOfCode/VaccineProduction.ipynb\" target=\"_parent\"><img src=\"https://colab.research.google.com/assets/colab-badge.svg\" alt=\"Open In Colab\"/></a>"
      ]
    },
    {
      "cell_type": "code",
      "metadata": {
        "colab": {
          "base_uri": "https://localhost:8080/"
        },
        "id": "1E_poBmWr-Zp",
        "outputId": "e408059a-4d23-495f-d3bb-04533d2a56cc"
      },
      "source": [
        "d1,v1,d2,v2,p = map(int,input().split())\r\n",
        "produced = 0\r\n",
        "d = 0\r\n",
        "if d1 < d2 :\r\n",
        "    d = d1 - 1\r\n",
        "    while d1 != d2 and produced != p:\r\n",
        "        produced += v1\r\n",
        "        d += 1\r\n",
        "        d1 += 1\r\n",
        "    if produced >= p :\r\n",
        "        print(d)\r\n",
        "    else :\r\n",
        "        while produced < p :\r\n",
        "            produced += v1+v2\r\n",
        "            d += 1\r\n",
        "            #print(d,produced)\r\n",
        "        \r\n",
        "        print(d)\r\n",
        "        \r\n",
        "elif d1 > d2 :\r\n",
        "    d = d2 - 1\r\n",
        "    while d1 != d2 and produced != p :\r\n",
        "        produced += v2\r\n",
        "        d += 1\r\n",
        "        d2 += 1\r\n",
        "    if produced >= p :\r\n",
        "        print(d)\r\n",
        "    else :\r\n",
        "        while produced < p :\r\n",
        "            produced += v1+v2\r\n",
        "            d += 1\r\n",
        "            #print(d,produced)\r\n",
        "        \r\n",
        "        print(d)\r\n",
        "#print(\"not equal\",d)\r\n",
        "else :\r\n",
        "    if d1 != 1 :\r\n",
        "        d = d1 - 1\r\n",
        "    if produced >= p :\r\n",
        "        print(d)\r\n",
        "    else :\r\n",
        "        while produced < p :\r\n",
        "            produced += v1+v2\r\n",
        "            d += 1\r\n",
        "            #print(d,produced)\r\n",
        "        \r\n",
        "        print(d)\r\n"
      ],
      "execution_count": 6,
      "outputs": [
        {
          "output_type": "stream",
          "text": [
            "1 2 1 3 14\n",
            "3\n"
          ],
          "name": "stdout"
        }
      ]
    }
  ]
}