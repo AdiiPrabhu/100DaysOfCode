{
  "nbformat": 4,
  "nbformat_minor": 0,
  "metadata": {
    "colab": {
      "name": "1.ipynb",
      "provenance": [],
      "authorship_tag": "ABX9TyMNueSx09Piyd+9ugyXbhVU",
      "include_colab_link": true
    },
    "kernelspec": {
      "display_name": "Python 3",
      "name": "python3"
    }
  },
  "cells": [
    {
      "cell_type": "markdown",
      "metadata": {
        "id": "view-in-github",
        "colab_type": "text"
      },
      "source": [
        "<a href=\"https://colab.research.google.com/github/AdityaPrabhuCS/100DaysOfCode/blob/master/%237DayOfCode/SedSequences.ipynb\" target=\"_parent\"><img src=\"https://colab.research.google.com/assets/colab-badge.svg\" alt=\"Open In Colab\"/></a>"
      ]
    },
    {
      "cell_type": "code",
      "metadata": {
        "colab": {
          "base_uri": "https://localhost:8080/"
        },
        "id": "1E_poBmWr-Zp",
        "outputId": "0547e8bd-9e46-4749-a44b-418c626bc192"
      },
      "source": [
        "for i in range(int(input())):\r\n",
        "    a,b=map(int,input().split())\r\n",
        "    num=list(map(int,input().split()))\r\n",
        "    c=sum(num)\r\n",
        "    if c%b==0:\r\n",
        "        print(0)\r\n",
        "    else:\r\n",
        "        print(1)"
      ],
      "execution_count": 3,
      "outputs": [
        {
          "output_type": "stream",
          "text": [
            "3\n",
            "3 2\n",
            "1 1 1\n",
            "1\n",
            "3 3\n",
            "1 1 1 \n",
            "0\n",
            "5 5\n",
            "1 2 3 4 5\n",
            "0\n"
          ],
          "name": "stdout"
        }
      ]
    }
  ]
}