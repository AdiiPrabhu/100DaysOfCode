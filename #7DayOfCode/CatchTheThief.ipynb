{
  "nbformat": 4,
  "nbformat_minor": 0,
  "metadata": {
    "colab": {
      "name": "1.ipynb",
      "provenance": [],
      "authorship_tag": "ABX9TyPnuaDMadAXq6Csq7hk/JYD",
      "include_colab_link": true
    },
    "kernelspec": {
      "display_name": "Python 3",
      "name": "python3"
    }
  },
  "cells": [
    {
      "cell_type": "markdown",
      "metadata": {
        "id": "view-in-github",
        "colab_type": "text"
      },
      "source": [
        "<a href=\"https://colab.research.google.com/github/AdityaPrabhuCS/100DaysOfCode/blob/master/%237DayOfCode/CatchTheThief.ipynb\" target=\"_parent\"><img src=\"https://colab.research.google.com/assets/colab-badge.svg\" alt=\"Open In Colab\"/></a>"
      ]
    },
    {
      "cell_type": "code",
      "metadata": {
        "colab": {
          "base_uri": "https://localhost:8080/"
        },
        "id": "1E_poBmWr-Zp",
        "outputId": "811d4673-bb48-492c-ffb1-de4df7965ed1"
      },
      "source": [
        "for i in range(int(input())):\r\n",
        "    a,b,c,d = map(int, input().split())\r\n",
        "    if a==b:\r\n",
        "        print('Yes')\r\n",
        "    elif (b-a)%(2*c)==0:\r\n",
        "        print('Yes')\r\n",
        "    else:\r\n",
        "        print('No')"
      ],
      "execution_count": 2,
      "outputs": [
        {
          "output_type": "stream",
          "text": [
            "4\n",
            "0 1 1 1\n",
            "No\n",
            "1 4 1 5\n",
            "No\n",
            "4 2 1 7\n",
            "Yes\n",
            "4 6 8 2\n",
            "No\n"
          ],
          "name": "stdout"
        }
      ]
    }
  ]
}