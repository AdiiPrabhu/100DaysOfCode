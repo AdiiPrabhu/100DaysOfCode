{
  "nbformat": 4,
  "nbformat_minor": 0,
  "metadata": {
    "colab": {
      "name": "1.ipynb",
      "provenance": [],
      "authorship_tag": "ABX9TyPLfoO14dP/s3H5Ky3AW54v",
      "include_colab_link": true
    },
    "kernelspec": {
      "display_name": "Python 3",
      "name": "python3"
    }
  },
  "cells": [
    {
      "cell_type": "markdown",
      "metadata": {
        "id": "view-in-github",
        "colab_type": "text"
      },
      "source": [
        "<a href=\"https://colab.research.google.com/github/AdityaPrabhuCS/100DaysOfCode/blob/master/%237DayOfCode/TheOneWhoKnocks.ipynb\" target=\"_parent\"><img src=\"https://colab.research.google.com/assets/colab-badge.svg\" alt=\"Open In Colab\"/></a>"
      ]
    },
    {
      "cell_type": "code",
      "metadata": {
        "colab": {
          "base_uri": "https://localhost:8080/"
        },
        "id": "1E_poBmWr-Zp",
        "outputId": "0f3f8b17-6af2-4abe-85ab-b1e21c4eb0af"
      },
      "source": [
        "for _ in range(int(input())):\r\n",
        "    x,y=map(int,input().split())\r\n",
        "    if y-x==0:\r\n",
        "        print(0)\r\n",
        "        continue\r\n",
        "    if y-x>0:\r\n",
        "        if (y-x)%2:\r\n",
        "            print(1)\r\n",
        "            continue\r\n",
        "        if not (y-x)%2 and (y-x)%4:\r\n",
        "            print(2)\r\n",
        "            continue\r\n",
        "        else:\r\n",
        "            print(3)\r\n",
        "            continue\r\n",
        "    if y-x<0:\r\n",
        "        if (y-x)%2:\r\n",
        "            print(2)\r\n",
        "            continue\r\n",
        "        else:\r\n",
        "            print(1)\r\n",
        "            continue\r\n",
        "    "
      ],
      "execution_count": 1,
      "outputs": [
        {
          "output_type": "stream",
          "text": [
            "2\n",
            "0 -5\n",
            "2\n",
            "4 -5\n",
            "2\n"
          ],
          "name": "stdout"
        }
      ]
    }
  ]
}