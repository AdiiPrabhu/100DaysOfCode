{
  "nbformat": 4,
  "nbformat_minor": 0,
  "metadata": {
    "colab": {
      "name": "1.ipynb",
      "provenance": [],
      "authorship_tag": "ABX9TyPCm7+YoPTRkDBbAwAmUyQ+",
      "include_colab_link": true
    },
    "kernelspec": {
      "display_name": "Python 3",
      "name": "python3"
    }
  },
  "cells": [
    {
      "cell_type": "markdown",
      "metadata": {
        "id": "view-in-github",
        "colab_type": "text"
      },
      "source": [
        "<a href=\"https://colab.research.google.com/github/AdityaPrabhuCS/100DaysOfCode/blob/master/%237DayOfCode/EvenPairSum.ipynb\" target=\"_parent\"><img src=\"https://colab.research.google.com/assets/colab-badge.svg\" alt=\"Open In Colab\"/></a>"
      ]
    },
    {
      "cell_type": "code",
      "metadata": {
        "colab": {
          "base_uri": "https://localhost:8080/"
        },
        "id": "1E_poBmWr-Zp",
        "outputId": "89a7ae03-9c49-43ec-9028-4216587e28bb"
      },
      "source": [
        "# cook your dish here\r\n",
        "try:\r\n",
        "    t = int(input())\r\n",
        "    while(t):\r\n",
        "        t-=1\r\n",
        "        a,b = map(int,input().split())\r\n",
        "        aeven,aodd,beven,bodd = 0,0,0,0\r\n",
        "        \r\n",
        "        aeven = a//2\r\n",
        "        if a%2==0:\r\n",
        "            aodd = a//2\r\n",
        "        else:\r\n",
        "            aodd = a//2 + 1\r\n",
        "        \r\n",
        "        beven = b//2\r\n",
        "        if b%2==0:\r\n",
        "            bodd = b//2\r\n",
        "        else:\r\n",
        "            bodd = b//2 + 1\r\n",
        "        \r\n",
        "        print((aeven*beven)+(aodd*bodd))\r\n",
        "except:\r\n",
        "    pass"
      ],
      "execution_count": 4,
      "outputs": [
        {
          "output_type": "stream",
          "text": [
            "4\n",
            "1 1\n",
            "1\n",
            "2 3\n",
            "3\n",
            "4 6\n",
            "12\n",
            "8 9\n",
            "36\n"
          ],
          "name": "stdout"
        }
      ]
    }
  ]
}