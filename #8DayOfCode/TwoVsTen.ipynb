{
  "nbformat": 4,
  "nbformat_minor": 0,
  "metadata": {
    "colab": {
      "name": "1.ipynb",
      "provenance": [],
      "collapsed_sections": [],
      "authorship_tag": "ABX9TyMwcFGPUwahJ/Coq/CJ0p15",
      "include_colab_link": true
    },
    "kernelspec": {
      "display_name": "Python 3",
      "name": "python3"
    }
  },
  "cells": [
    {
      "cell_type": "markdown",
      "metadata": {
        "id": "view-in-github",
        "colab_type": "text"
      },
      "source": [
        "<a href=\"https://colab.research.google.com/github/AdityaPrabhuCS/100DaysOfCode/blob/master/%238DayOfCode/TwoVsTen.ipynb\" target=\"_parent\"><img src=\"https://colab.research.google.com/assets/colab-badge.svg\" alt=\"Open In Colab\"/></a>"
      ]
    },
    {
      "cell_type": "code",
      "metadata": {
        "colab": {
          "base_uri": "https://localhost:8080/"
        },
        "id": "1E_poBmWr-Zp",
        "outputId": "ec8910a8-8cff-4ed2-b2ce-f0dfc7e24808"
      },
      "source": [
        "n = int(input())\r\n",
        "for i in range(n):\r\n",
        "    chance=0\r\n",
        "    a = int(input())\r\n",
        "    if a%10==0:\r\n",
        "        chance = 0\r\n",
        "    elif a%5 == 0:\r\n",
        "        chance = 1\r\n",
        "    elif a%10!=0 and a%5!=0:\r\n",
        "        chance=-1\r\n",
        "    print(chance)"
      ],
      "execution_count": 3,
      "outputs": [
        {
          "output_type": "stream",
          "text": [
            "3\n",
            "10\n",
            "0\n",
            "25\n",
            "1\n",
            "1\n",
            "-1\n"
          ],
          "name": "stdout"
        }
      ]
    }
  ]
}