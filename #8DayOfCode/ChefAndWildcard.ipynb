{
  "nbformat": 4,
  "nbformat_minor": 0,
  "metadata": {
    "colab": {
      "name": "1.ipynb",
      "provenance": [],
      "authorship_tag": "ABX9TyOZz8uolUBG2PvQVRrse97L",
      "include_colab_link": true
    },
    "kernelspec": {
      "display_name": "Python 3",
      "name": "python3"
    }
  },
  "cells": [
    {
      "cell_type": "markdown",
      "metadata": {
        "id": "view-in-github",
        "colab_type": "text"
      },
      "source": [
        "<a href=\"https://colab.research.google.com/github/AdityaPrabhuCS/100DaysOfCode/blob/master/%238DayOfCode/ChefAndWildcard.ipynb\" target=\"_parent\"><img src=\"https://colab.research.google.com/assets/colab-badge.svg\" alt=\"Open In Colab\"/></a>"
      ]
    },
    {
      "cell_type": "code",
      "metadata": {
        "colab": {
          "base_uri": "https://localhost:8080/"
        },
        "id": "1E_poBmWr-Zp",
        "outputId": "71def3c3-cc0a-44c0-f618-674be392d987"
      },
      "source": [
        "# cook your dish here\r\n",
        "for i in range(int(input())):\r\n",
        "    x = input()\r\n",
        "    y = input()\r\n",
        "    \r\n",
        "    if(len(x) == len(y)):\r\n",
        "        c = 0\r\n",
        "        for i in range(len(x)):\r\n",
        "            if(x[i] != y[i] and x[i] != \"?\" and y[i] != \"?\"):\r\n",
        "                c = 0\r\n",
        "                break\r\n",
        "            else:\r\n",
        "                c = 1\r\n",
        "    if(c == 1):\r\n",
        "        print(\"Yes\")\r\n",
        "    else:\r\n",
        "        print(\"No\")"
      ],
      "execution_count": 2,
      "outputs": [
        {
          "output_type": "stream",
          "text": [
            "2\n",
            "s?or?\n",
            "sco??\n",
            "Yes\n",
            "stor?\n",
            "sco??\n",
            "No\n"
          ],
          "name": "stdout"
        }
      ]
    }
  ]
}