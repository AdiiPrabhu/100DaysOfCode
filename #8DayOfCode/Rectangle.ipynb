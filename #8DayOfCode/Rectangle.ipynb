{
  "nbformat": 4,
  "nbformat_minor": 0,
  "metadata": {
    "colab": {
      "name": "1.ipynb",
      "provenance": [],
      "authorship_tag": "ABX9TyOdaD/hMsmawB3JRtzC/QPK",
      "include_colab_link": true
    },
    "kernelspec": {
      "display_name": "Python 3",
      "name": "python3"
    }
  },
  "cells": [
    {
      "cell_type": "markdown",
      "metadata": {
        "id": "view-in-github",
        "colab_type": "text"
      },
      "source": [
        "<a href=\"https://colab.research.google.com/github/AdityaPrabhuCS/100DaysOfCode/blob/master/%238DayOfCode/Rectangle.ipynb\" target=\"_parent\"><img src=\"https://colab.research.google.com/assets/colab-badge.svg\" alt=\"Open In Colab\"/></a>"
      ]
    },
    {
      "cell_type": "code",
      "metadata": {
        "colab": {
          "base_uri": "https://localhost:8080/"
        },
        "id": "1E_poBmWr-Zp",
        "outputId": "95d33830-ad6a-4cd6-8e99-324c11d5e615"
      },
      "source": [
        "# cook your dish here\r\n",
        "for i in range(int(input())):\r\n",
        "    l = list(map(int,input().split()))\r\n",
        "    l = sorted(l)\r\n",
        "    if l[0]==l[1] and l[2]==l[3]:\r\n",
        "        print(\"YES\")\r\n",
        "    else:\r\n",
        "        print(\"NO\")"
      ],
      "execution_count": 1,
      "outputs": [
        {
          "output_type": "stream",
          "text": [
            "3\n",
            "1 1 2 2\n",
            "YES\n",
            "3 2 2 3\n",
            "YES\n",
            "1 2 2 2\n",
            "NO\n"
          ],
          "name": "stdout"
        }
      ]
    }
  ]
}