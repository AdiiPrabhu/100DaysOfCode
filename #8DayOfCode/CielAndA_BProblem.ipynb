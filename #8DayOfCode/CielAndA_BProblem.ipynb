{
  "nbformat": 4,
  "nbformat_minor": 0,
  "metadata": {
    "colab": {
      "name": "1.ipynb",
      "provenance": [],
      "collapsed_sections": [],
      "authorship_tag": "ABX9TyPcbWD4VvUFRc8RgUAf4Pdm",
      "include_colab_link": true
    },
    "kernelspec": {
      "display_name": "Python 3",
      "name": "python3"
    }
  },
  "cells": [
    {
      "cell_type": "markdown",
      "metadata": {
        "id": "view-in-github",
        "colab_type": "text"
      },
      "source": [
        "<a href=\"https://colab.research.google.com/github/AdityaPrabhuCS/100DaysOfCode/blob/master/%238DayOfCode/CielAndA_BProblem.ipynb\" target=\"_parent\"><img src=\"https://colab.research.google.com/assets/colab-badge.svg\" alt=\"Open In Colab\"/></a>"
      ]
    },
    {
      "cell_type": "code",
      "metadata": {
        "colab": {
          "base_uri": "https://localhost:8080/"
        },
        "id": "1E_poBmWr-Zp",
        "outputId": "08d942da-cc3f-4140-a8aa-ed3b2213aab8"
      },
      "source": [
        "a,b=map(int,input().split())\r\n",
        "c=a-b\r\n",
        "if str(c)[-1]=='9':\r\n",
        "    c-=1\r\n",
        "else:\r\n",
        "    c+=1\r\n",
        "print(c)"
      ],
      "execution_count": 4,
      "outputs": [
        {
          "output_type": "stream",
          "text": [
            "5858 1234\n",
            "4625\n"
          ],
          "name": "stdout"
        }
      ]
    }
  ]
}