{
  "nbformat": 4,
  "nbformat_minor": 0,
  "metadata": {
    "colab": {
      "name": "1.ipynb",
      "provenance": [],
      "collapsed_sections": [],
      "authorship_tag": "ABX9TyNqK0OicEXvzkLKPBEcvZQi",
      "include_colab_link": true
    },
    "kernelspec": {
      "display_name": "Python 3",
      "name": "python3"
    }
  },
  "cells": [
    {
      "cell_type": "markdown",
      "metadata": {
        "id": "view-in-github",
        "colab_type": "text"
      },
      "source": [
        "<a href=\"https://colab.research.google.com/github/AdityaPrabhuCS/100DaysOfCode/blob/master/%238DayOfCode/Factorial.ipynb\" target=\"_parent\"><img src=\"https://colab.research.google.com/assets/colab-badge.svg\" alt=\"Open In Colab\"/></a>"
      ]
    },
    {
      "cell_type": "code",
      "metadata": {
        "colab": {
          "base_uri": "https://localhost:8080/"
        },
        "id": "1E_poBmWr-Zp",
        "outputId": "ec57594e-dde9-4aa4-96dd-7767a5806dda"
      },
      "source": [
        "for _ in range(int(input())):\r\n",
        "    x=int(input())\r\n",
        "    count = 0\r\n",
        "    while x>= 5:\r\n",
        "        count += x // 5\r\n",
        "        x = x // 5\r\n",
        "    print(count)"
      ],
      "execution_count": 5,
      "outputs": [
        {
          "output_type": "stream",
          "text": [
            "6\n",
            "3\n",
            "0\n",
            "60\n",
            "14\n",
            "10\n",
            "2\n",
            "1024\n",
            "253\n",
            "23456\n",
            "5861\n",
            "8794318\n",
            "2198573\n"
          ],
          "name": "stdout"
        }
      ]
    }
  ]
}