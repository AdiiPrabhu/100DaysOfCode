{
  "nbformat": 4,
  "nbformat_minor": 0,
  "metadata": {
    "colab": {
      "name": "1.ipynb",
      "provenance": [],
      "collapsed_sections": [],
      "authorship_tag": "ABX9TyMJLSuzp7GJiXPINyhaK+jd",
      "include_colab_link": true
    },
    "kernelspec": {
      "display_name": "Python 3",
      "name": "python3"
    }
  },
  "cells": [
    {
      "cell_type": "markdown",
      "metadata": {
        "id": "view-in-github",
        "colab_type": "text"
      },
      "source": [
        "<a href=\"https://colab.research.google.com/github/AdityaPrabhuCS/100DaysOfCode/blob/master/%238DayOfCode/ChefAndDolls.ipynb\" target=\"_parent\"><img src=\"https://colab.research.google.com/assets/colab-badge.svg\" alt=\"Open In Colab\"/></a>"
      ]
    },
    {
      "cell_type": "code",
      "metadata": {
        "colab": {
          "base_uri": "https://localhost:8080/"
        },
        "id": "1E_poBmWr-Zp",
        "outputId": "2aa73bf2-aa2e-4c6f-b60d-e84e318a2d2c"
      },
      "source": [
        "# cook your dish here\r\n",
        "for _ in range(int(input())):\r\n",
        "    doll_type=[]\r\n",
        "    missing_pair=0\r\n",
        "    for i in range(int(input())):\r\n",
        "        doll_type.append(int(input()))\r\n",
        "    for e in doll_type:\r\n",
        "        if doll_type.count(e)%2!=0:\r\n",
        "            print(e)\r\n",
        "            break\r\n",
        "    \r\n",
        "            \r\n",
        "            \r\n",
        "        \r\n",
        "        # cook your dish here\r\n"
      ],
      "execution_count": 6,
      "outputs": [
        {
          "output_type": "stream",
          "text": [
            "1\n",
            "3\n",
            "1\n",
            "2\n",
            "1\n",
            "2\n"
          ],
          "name": "stdout"
        }
      ]
    }
  ]
}