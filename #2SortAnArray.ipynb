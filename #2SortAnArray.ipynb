{
  "nbformat": 4,
  "nbformat_minor": 0,
  "metadata": {
    "colab": {
      "name": "Untitled0.ipynb",
      "provenance": [],
      "authorship_tag": "ABX9TyP835Qi4HQRSMINX0bKRGKC",
      "include_colab_link": true
    },
    "kernelspec": {
      "name": "python3",
      "display_name": "Python 3"
    }
  },
  "cells": [
    {
      "cell_type": "markdown",
      "metadata": {
        "id": "view-in-github",
        "colab_type": "text"
      },
      "source": [
        "<a href=\"https://colab.research.google.com/github/AdityaPrabhuCS/100DaysOfCode/blob/master/%232SortAnArray.ipynb\" target=\"_parent\"><img src=\"https://colab.research.google.com/assets/colab-badge.svg\" alt=\"Open In Colab\"/></a>"
      ]
    },
    {
      "cell_type": "code",
      "metadata": {
        "id": "kKmOSjqSq2sr",
        "colab": {
          "base_uri": "https://localhost:8080/"
        },
        "outputId": "0f332db5-4f87-406f-e4f5-67f9d375008f"
      },
      "source": [
        "a=int(input(\"Enter size\"))\r\n",
        "lst=[]\r\n",
        "for i in range(a):\r\n",
        "  lst.append(int(input()))\r\n",
        "print(sorted(lst))"
      ],
      "execution_count": 3,
      "outputs": [
        {
          "output_type": "stream",
          "text": [
            "Enter size4\n",
            "8\n",
            "0\n",
            "4\n",
            "2\n",
            "[0, 2, 4, 8]\n"
          ],
          "name": "stdout"
        }
      ]
    }
  ]
}