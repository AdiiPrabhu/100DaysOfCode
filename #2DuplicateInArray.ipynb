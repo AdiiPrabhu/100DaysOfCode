{
  "nbformat": 4,
  "nbformat_minor": 0,
  "metadata": {
    "colab": {
      "name": "Untitled0.ipynb",
      "provenance": [],
      "authorship_tag": "ABX9TyPZ6Mfq3Vsqw+Tqw7YrhoKm",
      "include_colab_link": true
    },
    "kernelspec": {
      "name": "python3",
      "display_name": "Python 3"
    }
  },
  "cells": [
    {
      "cell_type": "markdown",
      "metadata": {
        "id": "view-in-github",
        "colab_type": "text"
      },
      "source": [
        "<a href=\"https://colab.research.google.com/github/AdityaPrabhuCS/100DaysOfCode/blob/master/%232DuplicateInArray.ipynb\" target=\"_parent\"><img src=\"https://colab.research.google.com/assets/colab-badge.svg\" alt=\"Open In Colab\"/></a>"
      ]
    },
    {
      "cell_type": "code",
      "metadata": {
        "id": "kKmOSjqSq2sr",
        "colab": {
          "base_uri": "https://localhost:8080/"
        },
        "outputId": "1832b128-ba41-4d65-fc62-88d6fdfd914f"
      },
      "source": [
        "a=int(input(\"Enter size\"))\r\n",
        "lst=[]\r\n",
        "for i in range(a):\r\n",
        "  lst.append(int(input()))\r\n",
        "for i in range(len(lst)):\r\n",
        "  if(lst[i]==lst[len(lst)-(i+1)]):\r\n",
        "     print(\"Dupicate at \",i)\r\n",
        "     break\r\n",
        "  else :\r\n",
        "     print(\"No Duplicate\")\r\n",
        "     break"
      ],
      "execution_count": 10,
      "outputs": [
        {
          "output_type": "stream",
          "text": [
            "Enter size5\n",
            "1\n",
            "2\n",
            "2\n",
            "3\n",
            "4\n",
            "No Duplicate\n"
          ],
          "name": "stdout"
        }
      ]
    }
  ]
}