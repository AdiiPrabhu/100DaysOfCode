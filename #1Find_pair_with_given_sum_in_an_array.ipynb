{
  "nbformat": 4,
  "nbformat_minor": 0,
  "metadata": {
    "colab": {
      "name": "Untitled1.ipynb",
      "provenance": [],
      "authorship_tag": "ABX9TyN3be7Jk6iKHizb+IyuHIJJ",
      "include_colab_link": true
    },
    "kernelspec": {
      "name": "python3",
      "display_name": "Python 3"
    }
  },
  "cells": [
    {
      "cell_type": "markdown",
      "metadata": {
        "id": "view-in-github",
        "colab_type": "text"
      },
      "source": [
        "<a href=\"https://colab.research.google.com/github/AdityaPrabhuCS/100DaysOfCode/blob/master/%231Find_pair_with_given_sum_in_an_array.ipynb\" target=\"_parent\"><img src=\"https://colab.research.google.com/assets/colab-badge.svg\" alt=\"Open In Colab\"/></a>"
      ]
    },
    {
      "cell_type": "code",
      "metadata": {
        "colab": {
          "base_uri": "https://localhost:8080/"
        },
        "id": "wJDTjn81Q_t5",
        "outputId": "3c02863a-6eb7-4a03-99c5-ef1e207d0f3e"
      },
      "source": [
        "a= int(input(\"Enter size of array \"))\r\n",
        "list=[]\r\n",
        "print(\"Enter elements\")\r\n",
        "for i in range(a):\r\n",
        "  b=int(input())\r\n",
        "  list.append(b)\r\n",
        "c=int(input(\"Enter the sum\"))\r\n",
        "for i in range(len(list)-1):\r\n",
        "  for j in range(i+1,len(list)):\r\n",
        "      if (list[i]+list[j]==c):\r\n",
        "        print(\"pair found at \",i,\"and \",j)\r\n"
      ],
      "execution_count": 7,
      "outputs": [
        {
          "output_type": "stream",
          "text": [
            "Enter size of array 6\n",
            "Enter elements\n",
            "8\n",
            "7\n",
            "5\n",
            "2\n",
            "3\n",
            "1\n",
            "Enter the sum10\n",
            "pair found at  0 and  3\n",
            "pair found at  1 and  4\n"
          ],
          "name": "stdout"
        }
      ]
    }
  ]
}