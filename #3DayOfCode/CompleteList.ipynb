{
  "nbformat": 4,
  "nbformat_minor": 0,
  "metadata": {
    "colab": {
      "name": "Untitled0.ipynb",
      "provenance": [],
      "authorship_tag": "ABX9TyMoZR2xy3KaktVWi2pVq5RS",
      "include_colab_link": true
    },
    "kernelspec": {
      "name": "python3",
      "display_name": "Python 3"
    }
  },
  "cells": [
    {
      "cell_type": "markdown",
      "metadata": {
        "id": "view-in-github",
        "colab_type": "text"
      },
      "source": [
        "<a href=\"https://colab.research.google.com/github/AdityaPrabhuCS/100DaysOfCode/blob/master/%233DayOfCode/CompleteList.ipynb\" target=\"_parent\"><img src=\"https://colab.research.google.com/assets/colab-badge.svg\" alt=\"Open In Colab\"/></a>"
      ]
    },
    {
      "cell_type": "code",
      "metadata": {
        "id": "kKmOSjqSq2sr",
        "colab": {
          "base_uri": "https://localhost:8080/"
        },
        "outputId": "99c4e367-28ff-47a9-d6cb-56e9a2951fbc"
      },
      "source": [
        "if __name__ == '__main__':\r\n",
        "    N = int(input())\r\n",
        "    arr = []\r\n",
        "    n1 = 0;\r\n",
        "    n2 = 0;\r\n",
        "    for x in range(N):\r\n",
        "        comand = input()\r\n",
        "        comand = comand.split()\r\n",
        "        if comand[0] == \"insert\":\r\n",
        "            n1 = int(comand[1])\r\n",
        "            n2 = int(comand[2])\r\n",
        "            arr.insert(n1,n2)\r\n",
        "        elif comand[0] == \"print\":\r\n",
        "            print(arr)\r\n",
        "        elif comand[0] == \"remove\":\r\n",
        "            n1 = int(comand[1])\r\n",
        "            arr.remove(n1)\r\n",
        "        elif comand[0] == \"append\":\r\n",
        "            n1 = int(comand[1])\r\n",
        "            arr.append(n1)\r\n",
        "        elif comand[0] == \"sort\":\r\n",
        "            arr.sort()\r\n",
        "        elif comand[0] == \"pop\":\r\n",
        "            arr.pop()\r\n",
        "        elif comand[0] == \"reverse\":\r\n",
        "            arr.reverse()"
      ],
      "execution_count": 10,
      "outputs": [
        {
          "output_type": "stream",
          "text": [
            "4\n",
            "append 8\n",
            "append 2\n",
            "insert 3 1\n",
            "print\n",
            "[8, 2, 1]\n"
          ],
          "name": "stdout"
        }
      ]
    }
  ]
}