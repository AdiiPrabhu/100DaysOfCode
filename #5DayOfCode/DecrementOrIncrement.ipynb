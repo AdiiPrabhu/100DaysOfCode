{
  "nbformat": 4,
  "nbformat_minor": 0,
  "metadata": {
    "colab": {
      "name": "1.ipynb",
      "provenance": [],
      "authorship_tag": "ABX9TyPAxodTxP4UWv37VTl7qs9E",
      "include_colab_link": true
    },
    "kernelspec": {
      "name": "python3",
      "display_name": "Python 3"
    }
  },
  "cells": [
    {
      "cell_type": "markdown",
      "metadata": {
        "id": "view-in-github",
        "colab_type": "text"
      },
      "source": [
        "<a href=\"https://colab.research.google.com/github/AdityaPrabhuCS/100DaysOfCode/blob/master/%235DayOfCode/DecrementOrIncrement.ipynb\" target=\"_parent\"><img src=\"https://colab.research.google.com/assets/colab-badge.svg\" alt=\"Open In Colab\"/></a>"
      ]
    },
    {
      "cell_type": "code",
      "metadata": {
        "colab": {
          "base_uri": "https://localhost:8080/"
        },
        "id": "1E_poBmWr-Zp",
        "outputId": "c27c538c-8c9b-496b-f750-b860c5a6bfcc"
      },
      "source": [
        "a=int(input())\r\n",
        "if a%4==0:\r\n",
        "    a+=1\r\n",
        "else:\r\n",
        "    a-=1\r\n",
        "print(a)"
      ],
      "execution_count": 1,
      "outputs": [
        {
          "output_type": "stream",
          "text": [
            "5\n",
            "4\n"
          ],
          "name": "stdout"
        }
      ]
    }
  ]
}