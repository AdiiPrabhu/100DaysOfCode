{
  "nbformat": 4,
  "nbformat_minor": 0,
  "metadata": {
    "colab": {
      "name": "1.ipynb",
      "provenance": [],
      "authorship_tag": "ABX9TyMIX0s3dI5DitJpeyd/5/EZ",
      "include_colab_link": true
    },
    "kernelspec": {
      "name": "python3",
      "display_name": "Python 3"
    }
  },
  "cells": [
    {
      "cell_type": "markdown",
      "metadata": {
        "id": "view-in-github",
        "colab_type": "text"
      },
      "source": [
        "<a href=\"https://colab.research.google.com/github/AdityaPrabhuCS/100DaysOfCode/blob/master/%235DayOfCode/CielAndReceipt.ipynb\" target=\"_parent\"><img src=\"https://colab.research.google.com/assets/colab-badge.svg\" alt=\"Open In Colab\"/></a>"
      ]
    },
    {
      "cell_type": "code",
      "metadata": {
        "colab": {
          "base_uri": "https://localhost:8080/"
        },
        "id": "1E_poBmWr-Zp",
        "outputId": "d71e7812-e1c7-4f18-afa0-dde3a73d40db"
      },
      "source": [
        "T = int(input())\r\n",
        "l=[2048,1024,512,256,128,64,32,16,8,4,2,1]\r\n",
        "for i in range(T):\r\n",
        "    a = 0\r\n",
        "    p = int(input())\r\n",
        "    for i in l:\r\n",
        "        if p >= i:\r\n",
        "            a = a + (p // i)\r\n",
        "            p = p %  i\r\n",
        "    print(a)"
      ],
      "execution_count": 5,
      "outputs": [
        {
          "output_type": "stream",
          "text": [
            "4\n",
            "10\n",
            "2\n",
            "256\n",
            "1\n",
            "255\n",
            "8\n",
            "4096\n",
            "2\n"
          ],
          "name": "stdout"
        }
      ]
    }
  ]
}