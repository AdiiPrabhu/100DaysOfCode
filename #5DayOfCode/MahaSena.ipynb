{
  "nbformat": 4,
  "nbformat_minor": 0,
  "metadata": {
    "colab": {
      "name": "1.ipynb",
      "provenance": [],
      "authorship_tag": "ABX9TyM1ATlHkaB6o/ZOQU1rgO+A",
      "include_colab_link": true
    },
    "kernelspec": {
      "name": "python3",
      "display_name": "Python 3"
    }
  },
  "cells": [
    {
      "cell_type": "markdown",
      "metadata": {
        "id": "view-in-github",
        "colab_type": "text"
      },
      "source": [
        "<a href=\"https://colab.research.google.com/github/AdityaPrabhuCS/100DaysOfCode/blob/master/%235DayOfCode/MahaSena.ipynb\" target=\"_parent\"><img src=\"https://colab.research.google.com/assets/colab-badge.svg\" alt=\"Open In Colab\"/></a>"
      ]
    },
    {
      "cell_type": "code",
      "metadata": {
        "colab": {
          "base_uri": "https://localhost:8080/"
        },
        "id": "1E_poBmWr-Zp",
        "outputId": "f85733aa-7862-462c-bb48-e43ff4771e31"
      },
      "source": [
        "n=int(input())\r\n",
        "even=0\r\n",
        "odd=0\r\n",
        "A=list(map(int,input().split()))\r\n",
        "for j in A:\r\n",
        "    if j % 2==0:\r\n",
        "        even+=1\r\n",
        "    else:\r\n",
        "        odd+=1\r\n",
        "if even>odd:\r\n",
        "    print(\"READY FOR BATTLE\")\r\n",
        "else:\r\n",
        "    print(\"NOT READY\")\r\n"
      ],
      "execution_count": 7,
      "outputs": [
        {
          "output_type": "stream",
          "text": [
            "4\n",
            "11 12 13 14\n",
            "NOT READY\n"
          ],
          "name": "stdout"
        }
      ]
    }
  ]
}