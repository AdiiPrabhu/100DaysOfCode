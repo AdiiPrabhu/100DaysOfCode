{
  "nbformat": 4,
  "nbformat_minor": 0,
  "metadata": {
    "colab": {
      "name": "1.ipynb",
      "provenance": [],
      "authorship_tag": "ABX9TyOXvreR3Dh3dwAlTLYnO+FY",
      "include_colab_link": true
    },
    "kernelspec": {
      "name": "python3",
      "display_name": "Python 3"
    }
  },
  "cells": [
    {
      "cell_type": "markdown",
      "metadata": {
        "id": "view-in-github",
        "colab_type": "text"
      },
      "source": [
        "<a href=\"https://colab.research.google.com/github/AdityaPrabhuCS/100DaysOfCode/blob/master/%235DayOfCode/ChefAndOperators.ipynb\" target=\"_parent\"><img src=\"https://colab.research.google.com/assets/colab-badge.svg\" alt=\"Open In Colab\"/></a>"
      ]
    },
    {
      "cell_type": "code",
      "metadata": {
        "colab": {
          "base_uri": "https://localhost:8080/"
        },
        "id": "1E_poBmWr-Zp",
        "outputId": "9d2e2ae6-f7f7-4186-90c1-4fdd85ddb395"
      },
      "source": [
        "for i in range(int(input())):\r\n",
        "    a,b =map(int, input().split(\" \"))\r\n",
        "    if a>b:\r\n",
        "        print(\">\")\r\n",
        "    elif a<b:\r\n",
        "        print('<')\r\n",
        "    else:\r\n",
        "        print('=')"
      ],
      "execution_count": 3,
      "outputs": [
        {
          "output_type": "stream",
          "text": [
            "3\n",
            "10 20\n",
            "<\n",
            "20 10\n",
            ">\n",
            "10 10\n",
            "=\n"
          ],
          "name": "stdout"
        }
      ]
    }
  ]
}