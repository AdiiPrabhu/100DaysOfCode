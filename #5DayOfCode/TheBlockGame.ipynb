{
  "nbformat": 4,
  "nbformat_minor": 0,
  "metadata": {
    "colab": {
      "name": "1.ipynb",
      "provenance": [],
      "authorship_tag": "ABX9TyMO7+JhoEnSVMnBTsT3aQnL",
      "include_colab_link": true
    },
    "kernelspec": {
      "name": "python3",
      "display_name": "Python 3"
    }
  },
  "cells": [
    {
      "cell_type": "markdown",
      "metadata": {
        "id": "view-in-github",
        "colab_type": "text"
      },
      "source": [
        "<a href=\"https://colab.research.google.com/github/AdityaPrabhuCS/100DaysOfCode/blob/master/%235DayOfCode/TheBlockGame.ipynb\" target=\"_parent\"><img src=\"https://colab.research.google.com/assets/colab-badge.svg\" alt=\"Open In Colab\"/></a>"
      ]
    },
    {
      "cell_type": "code",
      "metadata": {
        "colab": {
          "base_uri": "https://localhost:8080/"
        },
        "id": "1E_poBmWr-Zp",
        "outputId": "b2c94f6e-e020-4262-cf94-f82eaa13e77a"
      },
      "source": [
        "for i in range(int(input())):\r\n",
        "    a=int(input())\r\n",
        "    b=a\r\n",
        "    c=0\r\n",
        "    while a>0:\r\n",
        "        d=a%10\r\n",
        "        c=c*10+d\r\n",
        "        a=a//10      \r\n",
        "    if(b==c):\r\n",
        "        print('wins')\r\n",
        "    else:\r\n",
        "        print('loses')"
      ],
      "execution_count": 2,
      "outputs": [
        {
          "output_type": "stream",
          "text": [
            "3\n",
            "331\n",
            "loses\n",
            "666\n",
            "wins\n",
            "343\n",
            "wins\n"
          ],
          "name": "stdout"
        }
      ]
    }
  ]
}