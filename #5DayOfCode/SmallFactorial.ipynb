{
  "nbformat": 4,
  "nbformat_minor": 0,
  "metadata": {
    "colab": {
      "name": "1.ipynb",
      "provenance": [],
      "authorship_tag": "ABX9TyOoQj4Zms3a5pfNJEtuy3JB",
      "include_colab_link": true
    },
    "kernelspec": {
      "name": "python3",
      "display_name": "Python 3"
    }
  },
  "cells": [
    {
      "cell_type": "markdown",
      "metadata": {
        "id": "view-in-github",
        "colab_type": "text"
      },
      "source": [
        "<a href=\"https://colab.research.google.com/github/AdityaPrabhuCS/100DaysOfCode/blob/master/%235DayOfCode/SmallFactorial.ipynb\" target=\"_parent\"><img src=\"https://colab.research.google.com/assets/colab-badge.svg\" alt=\"Open In Colab\"/></a>"
      ]
    },
    {
      "cell_type": "code",
      "metadata": {
        "colab": {
          "base_uri": "https://localhost:8080/"
        },
        "id": "1E_poBmWr-Zp",
        "outputId": "169c6948-b2a8-4a4d-c7e5-e024c345e963"
      },
      "source": [
        "def fact(n):\r\n",
        "    if(n!=0):\r\n",
        "        return n*fact(n-1)\r\n",
        "    else:\r\n",
        "        return 1\r\n",
        "for i in range(int(input())):\r\n",
        "    a=int(input())\r\n",
        "    print(fact(a))"
      ],
      "execution_count": 2,
      "outputs": [
        {
          "output_type": "stream",
          "text": [
            "3\n",
            "3\n",
            "6\n",
            "4\n",
            "24\n",
            "5\n",
            "120\n"
          ],
          "name": "stdout"
        }
      ]
    }
  ]
}