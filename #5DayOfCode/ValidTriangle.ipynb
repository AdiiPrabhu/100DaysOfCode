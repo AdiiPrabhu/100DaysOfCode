{
  "nbformat": 4,
  "nbformat_minor": 0,
  "metadata": {
    "colab": {
      "name": "1.ipynb",
      "provenance": [],
      "authorship_tag": "ABX9TyPlssRcBVhtSvpnhXGeUKa7",
      "include_colab_link": true
    },
    "kernelspec": {
      "name": "python3",
      "display_name": "Python 3"
    }
  },
  "cells": [
    {
      "cell_type": "markdown",
      "metadata": {
        "id": "view-in-github",
        "colab_type": "text"
      },
      "source": [
        "<a href=\"https://colab.research.google.com/github/AdityaPrabhuCS/100DaysOfCode/blob/master/%235DayOfCode/ValidTriangle.ipynb\" target=\"_parent\"><img src=\"https://colab.research.google.com/assets/colab-badge.svg\" alt=\"Open In Colab\"/></a>"
      ]
    },
    {
      "cell_type": "code",
      "metadata": {
        "colab": {
          "base_uri": "https://localhost:8080/"
        },
        "id": "1E_poBmWr-Zp",
        "outputId": "40e43fe1-eb6b-48ac-f57e-95df976c94e4"
      },
      "source": [
        "for i in range(int(input())):\r\n",
        "    a,b,c=map(int,input().split())\r\n",
        "    if a+b+c==180:\r\n",
        "        print('YES')\r\n",
        "    else:\r\n",
        "        print('NO')\r\n",
        "        "
      ],
      "execution_count": 6,
      "outputs": [
        {
          "output_type": "stream",
          "text": [
            "3\n",
            "40 40 180\n",
            "NO\n",
            "45 45 90\n",
            "YES\n",
            "180 1 1\n",
            "NO\n"
          ],
          "name": "stdout"
        }
      ]
    }
  ]
}