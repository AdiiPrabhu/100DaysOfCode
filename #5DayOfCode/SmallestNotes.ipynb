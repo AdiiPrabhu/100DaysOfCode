{
  "nbformat": 4,
  "nbformat_minor": 0,
  "metadata": {
    "colab": {
      "name": "1.ipynb",
      "provenance": [],
      "authorship_tag": "ABX9TyPrNJHNlYMweVOkdB0c1gdE",
      "include_colab_link": true
    },
    "kernelspec": {
      "name": "python3",
      "display_name": "Python 3"
    }
  },
  "cells": [
    {
      "cell_type": "markdown",
      "metadata": {
        "id": "view-in-github",
        "colab_type": "text"
      },
      "source": [
        "<a href=\"https://colab.research.google.com/github/AdityaPrabhuCS/100DaysOfCode/blob/master/%235DayOfCode/SmallestNotes.ipynb\" target=\"_parent\"><img src=\"https://colab.research.google.com/assets/colab-badge.svg\" alt=\"Open In Colab\"/></a>"
      ]
    },
    {
      "cell_type": "code",
      "metadata": {
        "colab": {
          "base_uri": "https://localhost:8080/"
        },
        "id": "1E_poBmWr-Zp",
        "outputId": "c866402e-1711-4b4c-c966-ea5b98678d94"
      },
      "source": [
        "t = int(input())\r\n",
        "r = [100,50,10,5,2,1]\r\n",
        "for _ in range(t):\r\n",
        "    a = int(input())\r\n",
        "    b = 0 \r\n",
        "    for i in r:\r\n",
        "        if a>=i:\r\n",
        "            b += a//i \r\n",
        "            a %= i \r\n",
        "    print(b)"
      ],
      "execution_count": 8,
      "outputs": [
        {
          "output_type": "stream",
          "text": [
            "3\n",
            "1200\n",
            "12\n",
            "500\n",
            "5\n",
            "242\n",
            "7\n"
          ],
          "name": "stdout"
        }
      ]
    }
  ]
}