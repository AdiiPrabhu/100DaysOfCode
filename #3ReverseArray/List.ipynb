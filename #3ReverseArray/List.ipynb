{
  "nbformat": 4,
  "nbformat_minor": 0,
  "metadata": {
    "colab": {
      "name": "Untitled0.ipynb",
      "provenance": [],
      "authorship_tag": "ABX9TyPFLuUcL4S61O4MxTRkdLEb",
      "include_colab_link": true
    },
    "kernelspec": {
      "name": "python3",
      "display_name": "Python 3"
    }
  },
  "cells": [
    {
      "cell_type": "markdown",
      "metadata": {
        "id": "view-in-github",
        "colab_type": "text"
      },
      "source": [
        "<a href=\"https://colab.research.google.com/github/AdityaPrabhuCS/100DaysOfCode/blob/master/%233ReverseArray/List.ipynb\" target=\"_parent\"><img src=\"https://colab.research.google.com/assets/colab-badge.svg\" alt=\"Open In Colab\"/></a>"
      ]
    },
    {
      "cell_type": "code",
      "metadata": {
        "id": "kKmOSjqSq2sr",
        "colab": {
          "base_uri": "https://localhost:8080/"
        },
        "outputId": "a566bfa2-ca60-4d9c-85ab-501a30c2cfa6"
      },
      "source": [
        "a=int(input(\"Enter size\"))\r\n",
        "lst=[]\r\n",
        "for i in range(a):\r\n",
        "  lst.append(int(input()))\r\n",
        "print(lst[::-1])\r\n"
      ],
      "execution_count": 8,
      "outputs": [
        {
          "output_type": "stream",
          "text": [
            "Enter size5\n",
            "1\n",
            "2\n",
            "3\n",
            "4\n",
            "5\n",
            "[5, 4, 3, 2, 1]\n"
          ],
          "name": "stdout"
        }
      ]
    }
  ]
}