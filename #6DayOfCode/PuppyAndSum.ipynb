{
  "nbformat": 4,
  "nbformat_minor": 0,
  "metadata": {
    "colab": {
      "name": "1.ipynb",
      "provenance": [],
      "authorship_tag": "ABX9TyM61USrtx26L094IDDDjvXz",
      "include_colab_link": true
    },
    "kernelspec": {
      "display_name": "Python 3",
      "name": "python3"
    }
  },
  "cells": [
    {
      "cell_type": "markdown",
      "metadata": {
        "id": "view-in-github",
        "colab_type": "text"
      },
      "source": [
        "<a href=\"https://colab.research.google.com/github/AdityaPrabhuCS/100DaysOfCode/blob/master/%236DayOfCode/PuppyAndSum.ipynb\" target=\"_parent\"><img src=\"https://colab.research.google.com/assets/colab-badge.svg\" alt=\"Open In Colab\"/></a>"
      ]
    },
    {
      "cell_type": "code",
      "metadata": {
        "colab": {
          "base_uri": "https://localhost:8080/"
        },
        "id": "1E_poBmWr-Zp",
        "outputId": "cea04dac-e99f-4511-f75e-8efb6c4a930a"
      },
      "source": [
        "def sum(a,b):\r\n",
        "    if a==0:\r\n",
        "        print (b)\r\n",
        "        return b\r\n",
        "    else:\r\n",
        "        c=0\r\n",
        "        for j in range(0,b):\r\n",
        "            c=c+j+1\r\n",
        "        sum(a-1,c)\r\n",
        "T=int(input())\r\n",
        "for i in range(T):\r\n",
        "    a,b=map(int,input().split())\r\n",
        "    sum(a,b)\r\n",
        "\r\n",
        "\r\n"
      ],
      "execution_count": 29,
      "outputs": [
        {
          "output_type": "stream",
          "text": [
            "2\n",
            "1 4\n",
            "10\n",
            "2 3\n",
            "21\n"
          ],
          "name": "stdout"
        }
      ]
    }
  ]
}