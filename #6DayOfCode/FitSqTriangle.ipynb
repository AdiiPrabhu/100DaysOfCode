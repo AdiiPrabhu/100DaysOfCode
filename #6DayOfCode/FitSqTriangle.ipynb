{
  "nbformat": 4,
  "nbformat_minor": 0,
  "metadata": {
    "colab": {
      "name": "1.ipynb",
      "provenance": [],
      "authorship_tag": "ABX9TyPonwOMyHVjaDO4qT9/bF7s",
      "include_colab_link": true
    },
    "kernelspec": {
      "display_name": "Python 3",
      "name": "python3"
    }
  },
  "cells": [
    {
      "cell_type": "markdown",
      "metadata": {
        "id": "view-in-github",
        "colab_type": "text"
      },
      "source": [
        "<a href=\"https://colab.research.google.com/github/AdityaPrabhuCS/100DaysOfCode/blob/master/%236DayOfCode/FitSqTriangle.ipynb\" target=\"_parent\"><img src=\"https://colab.research.google.com/assets/colab-badge.svg\" alt=\"Open In Colab\"/></a>"
      ]
    },
    {
      "cell_type": "code",
      "metadata": {
        "colab": {
          "base_uri": "https://localhost:8080/"
        },
        "id": "1E_poBmWr-Zp",
        "outputId": "e39b4503-046e-49b8-c146-5aec6f90b837"
      },
      "source": [
        "for _ in range(int(input())):\r\n",
        "\tn = int(input())\r\n",
        "\tn = n-2\r\n",
        "\tn//=2\r\n",
        "\tprint(n*(n+1)//2)"
      ],
      "execution_count": 7,
      "outputs": [
        {
          "output_type": "stream",
          "text": [
            "11\n",
            "1\n",
            "0\n",
            "2\n",
            "0\n",
            "3\n",
            "0\n",
            "4\n",
            "1\n",
            "5\n",
            "1\n",
            "6\n",
            "3\n",
            "7\n",
            "3\n",
            "8\n",
            "6\n",
            "9\n",
            "6\n",
            "10\n",
            "10\n",
            "11\n",
            "10\n"
          ],
          "name": "stdout"
        }
      ]
    }
  ]
}