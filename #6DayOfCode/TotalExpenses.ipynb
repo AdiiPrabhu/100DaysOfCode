{
  "nbformat": 4,
  "nbformat_minor": 0,
  "metadata": {
    "colab": {
      "name": "1.ipynb",
      "provenance": [],
      "authorship_tag": "ABX9TyMM1XbqPRXdJxGPrNQDpPqA",
      "include_colab_link": true
    },
    "kernelspec": {
      "display_name": "Python 3",
      "name": "python3"
    }
  },
  "cells": [
    {
      "cell_type": "markdown",
      "metadata": {
        "id": "view-in-github",
        "colab_type": "text"
      },
      "source": [
        "<a href=\"https://colab.research.google.com/github/AdityaPrabhuCS/100DaysOfCode/blob/master/%236DayOfCode/TotalExpenses.ipynb\" target=\"_parent\"><img src=\"https://colab.research.google.com/assets/colab-badge.svg\" alt=\"Open In Colab\"/></a>"
      ]
    },
    {
      "cell_type": "code",
      "metadata": {
        "colab": {
          "base_uri": "https://localhost:8080/"
        },
        "id": "1E_poBmWr-Zp",
        "outputId": "3c963325-d703-4433-cc56-27ccb0f49ec1"
      },
      "source": [
        "for i in range(int(input())):\r\n",
        "    a,b=map(float,input().split())\r\n",
        "    if a>1000:\r\n",
        "        c=a-(a*10)/100\r\n",
        "        print(b*c)\r\n",
        "    else:\r\n",
        "        print(a*b)\r\n"
      ],
      "execution_count": 30,
      "outputs": [
        {
          "output_type": "stream",
          "text": [
            "3\n",
            "100 20\n",
            "2000.0\n",
            "10 25\n",
            "250.0\n",
            "1200 25\n",
            "27000.0\n"
          ],
          "name": "stdout"
        }
      ]
    }
  ]
}