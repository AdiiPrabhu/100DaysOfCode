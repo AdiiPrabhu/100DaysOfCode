{
  "nbformat": 4,
  "nbformat_minor": 0,
  "metadata": {
    "colab": {
      "name": "1.ipynb",
      "provenance": [],
      "authorship_tag": "ABX9TyP8VYNiODpWMzd9qJnY4xre",
      "include_colab_link": true
    },
    "kernelspec": {
      "name": "python3",
      "display_name": "Python 3"
    }
  },
  "cells": [
    {
      "cell_type": "markdown",
      "metadata": {
        "id": "view-in-github",
        "colab_type": "text"
      },
      "source": [
        "<a href=\"https://colab.research.google.com/github/AdityaPrabhuCS/100DaysOfCode/blob/master/%236DayOfCode/PrimalityTest.ipynb\" target=\"_parent\"><img src=\"https://colab.research.google.com/assets/colab-badge.svg\" alt=\"Open In Colab\"/></a>"
      ]
    },
    {
      "cell_type": "code",
      "metadata": {
        "colab": {
          "base_uri": "https://localhost:8080/"
        },
        "id": "1E_poBmWr-Zp",
        "outputId": "667bea61-bb10-447a-a2a8-c7760120acef"
      },
      "source": [
        "def is_prime(n):\r\n",
        "    if n == 1:\r\n",
        "        return False\r\n",
        "\r\n",
        "    for i in range(2, int(n**0.5)+1):\r\n",
        "        if n % i == 0:\r\n",
        "            return False\r\n",
        "    return True\r\n",
        "\r\n",
        "for _ in range(int(input())):\r\n",
        "    num = int(input())\r\n",
        "\r\n",
        "    print(\"yes\") if is_prime(num) else print(\"no\")"
      ],
      "execution_count": 1,
      "outputs": [
        {
          "output_type": "stream",
          "text": [
            "3\n",
            "23\n",
            "yes\n",
            "20\n",
            "no\n",
            "17\n",
            "yes\n"
          ],
          "name": "stdout"
        }
      ]
    }
  ]
}