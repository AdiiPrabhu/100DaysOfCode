{
  "nbformat": 4,
  "nbformat_minor": 0,
  "metadata": {
    "colab": {
      "name": "1.ipynb",
      "provenance": [],
      "authorship_tag": "ABX9TyNkeuU4w3uZTyqdd6eHO6ng",
      "include_colab_link": true
    },
    "kernelspec": {
      "name": "python3",
      "display_name": "Python 3"
    }
  },
  "cells": [
    {
      "cell_type": "markdown",
      "metadata": {
        "id": "view-in-github",
        "colab_type": "text"
      },
      "source": [
        "<a href=\"https://colab.research.google.com/github/AdityaPrabhuCS/100DaysOfCode/blob/master/%236DayOfCode/SumOrDiff.ipynb\" target=\"_parent\"><img src=\"https://colab.research.google.com/assets/colab-badge.svg\" alt=\"Open In Colab\"/></a>"
      ]
    },
    {
      "cell_type": "code",
      "metadata": {
        "colab": {
          "base_uri": "https://localhost:8080/"
        },
        "id": "1E_poBmWr-Zp",
        "outputId": "2d2b2c0d-545d-401d-e5c5-33834d0d9e44"
      },
      "source": [
        "a=int(input())\r\n",
        "b=int(input())\r\n",
        "if a>b:\r\n",
        "    print(a-b)\r\n",
        "elif a<b:\r\n",
        "    print(a+b)\r\n"
      ],
      "execution_count": 3,
      "outputs": [
        {
          "output_type": "stream",
          "text": [
            "82\n",
            "28\n",
            "54\n"
          ],
          "name": "stdout"
        }
      ]
    }
  ]
}