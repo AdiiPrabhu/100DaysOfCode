{
  "nbformat": 4,
  "nbformat_minor": 0,
  "metadata": {
    "colab": {
      "name": "1.ipynb",
      "provenance": [],
      "authorship_tag": "ABX9TyMyJIsdj8rprvm0hgajXQ9h",
      "include_colab_link": true
    },
    "kernelspec": {
      "display_name": "Python 3",
      "name": "python3"
    }
  },
  "cells": [
    {
      "cell_type": "markdown",
      "metadata": {
        "id": "view-in-github",
        "colab_type": "text"
      },
      "source": [
        "<a href=\"https://colab.research.google.com/github/AdityaPrabhuCS/100DaysOfCode/blob/master/%236DayOfCode/Lapindromes.ipynb\" target=\"_parent\"><img src=\"https://colab.research.google.com/assets/colab-badge.svg\" alt=\"Open In Colab\"/></a>"
      ]
    },
    {
      "cell_type": "code",
      "metadata": {
        "colab": {
          "base_uri": "https://localhost:8080/"
        },
        "id": "1E_poBmWr-Zp",
        "outputId": "43f63fe5-cb25-4185-e16b-c6493fe7949a"
      },
      "source": [
        "# cook your dish here\r\n",
        "for _ in range(int (input())):\r\n",
        "    word=input()\r\n",
        "    l=len(word)\r\n",
        "    \r\n",
        "    fst=''\r\n",
        "    snd=''\r\n",
        "    \r\n",
        "    if(l%2==0):\r\n",
        "        fst=word[:l//2]\r\n",
        "        snd=word[l//2:]\r\n",
        "        \r\n",
        "    else:\r\n",
        "        fst=word[:l//2]\r\n",
        "        snd=word[l//2+1:]\r\n",
        "        \r\n",
        "    fst=sorted(fst)\r\n",
        "    snd=sorted(snd)\r\n",
        "    \r\n",
        "    if fst==snd:\r\n",
        "        print('YES')\r\n",
        "    else:\r\n",
        "        print('NO')"
      ],
      "execution_count": 31,
      "outputs": [
        {
          "output_type": "stream",
          "text": [
            "3\n",
            "gaga\n",
            "YES\n",
            "abcda\n",
            "NO\n",
            "xyzxy\n",
            "YES\n"
          ],
          "name": "stdout"
        }
      ]
    }
  ]
}