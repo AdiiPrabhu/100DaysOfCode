{
  "nbformat": 4,
  "nbformat_minor": 0,
  "metadata": {
    "colab": {
      "name": "1.ipynb",
      "provenance": [],
      "authorship_tag": "ABX9TyMmncRhSZ2WhfzJlwDla85h",
      "include_colab_link": true
    },
    "kernelspec": {
      "name": "python3",
      "display_name": "Python 3"
    }
  },
  "cells": [
    {
      "cell_type": "markdown",
      "metadata": {
        "id": "view-in-github",
        "colab_type": "text"
      },
      "source": [
        "<a href=\"https://colab.research.google.com/github/AdityaPrabhuCS/100DaysOfCode/blob/master/%236DayOfCode/IdAndShip.ipynb\" target=\"_parent\"><img src=\"https://colab.research.google.com/assets/colab-badge.svg\" alt=\"Open In Colab\"/></a>"
      ]
    },
    {
      "cell_type": "code",
      "metadata": {
        "colab": {
          "base_uri": "https://localhost:8080/"
        },
        "id": "1E_poBmWr-Zp",
        "outputId": "e667e2c6-52d5-4596-c44e-66d6b356d49f"
      },
      "source": [
        "for i in range(int(input())):\r\n",
        "    m=input()\r\n",
        "    if (m=='B' or m=='b'):\r\n",
        "        print('BattleShip')\r\n",
        "    elif (m=='C' or m=='c'):\r\n",
        "        print('Cruiser')\r\n",
        "    elif (m=='D' or m=='d'):\r\n",
        "        print('Destroyer')\r\n",
        "    elif (m=='F' or m=='f'):\r\n",
        "        print('Frigate')\r\n",
        "    else:\r\n",
        "        pass"
      ],
      "execution_count": 2,
      "outputs": [
        {
          "output_type": "stream",
          "text": [
            "3\n",
            "b\n",
            "BattleShip\n",
            "d\n",
            "Destroyer\n",
            "f\n",
            "Frigate\n"
          ],
          "name": "stdout"
        }
      ]
    }
  ]
}