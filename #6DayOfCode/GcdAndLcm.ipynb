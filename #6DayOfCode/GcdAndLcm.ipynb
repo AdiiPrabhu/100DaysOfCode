{
  "nbformat": 4,
  "nbformat_minor": 0,
  "metadata": {
    "colab": {
      "name": "1.ipynb",
      "provenance": [],
      "authorship_tag": "ABX9TyMWTClqMMgXVlz/hNhHw7Ag",
      "include_colab_link": true
    },
    "kernelspec": {
      "display_name": "Python 3",
      "name": "python3"
    }
  },
  "cells": [
    {
      "cell_type": "markdown",
      "metadata": {
        "id": "view-in-github",
        "colab_type": "text"
      },
      "source": [
        "<a href=\"https://colab.research.google.com/github/AdityaPrabhuCS/100DaysOfCode/blob/master/%236DayOfCode/GcdAndLcm.ipynb\" target=\"_parent\"><img src=\"https://colab.research.google.com/assets/colab-badge.svg\" alt=\"Open In Colab\"/></a>"
      ]
    },
    {
      "cell_type": "code",
      "metadata": {
        "colab": {
          "base_uri": "https://localhost:8080/"
        },
        "id": "1E_poBmWr-Zp",
        "outputId": "e754e321-857a-42e9-83d3-29704e07115a"
      },
      "source": [
        "import math\r\n",
        "for i in range(int(input())):\r\n",
        "    a,b=map(int,input().split())\r\n",
        "    lcm=a*b//math.gcd(a,b)\r\n",
        "    print(math.gcd(a,b),lcm)"
      ],
      "execution_count": 6,
      "outputs": [
        {
          "output_type": "stream",
          "text": [
            "2\n",
            "15 82\n",
            "1 1230\n",
            "16 45\n",
            "1 720\n"
          ],
          "name": "stdout"
        }
      ]
    }
  ]
}