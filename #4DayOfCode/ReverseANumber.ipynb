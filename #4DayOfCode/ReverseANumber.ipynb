{
  "nbformat": 4,
  "nbformat_minor": 0,
  "metadata": {
    "colab": {
      "name": "1.ipynb",
      "provenance": [],
      "authorship_tag": "ABX9TyMFNDTMPaNOktdff7K5edEJ",
      "include_colab_link": true
    },
    "kernelspec": {
      "name": "python3",
      "display_name": "Python 3"
    }
  },
  "cells": [
    {
      "cell_type": "markdown",
      "metadata": {
        "id": "view-in-github",
        "colab_type": "text"
      },
      "source": [
        "<a href=\"https://colab.research.google.com/github/AdityaPrabhuCS/100DaysOfCode/blob/master/%234DayOfCode/ReverseANumber.ipynb\" target=\"_parent\"><img src=\"https://colab.research.google.com/assets/colab-badge.svg\" alt=\"Open In Colab\"/></a>"
      ]
    },
    {
      "cell_type": "code",
      "metadata": {
        "colab": {
          "base_uri": "https://localhost:8080/"
        },
        "id": "1E_poBmWr-Zp",
        "outputId": "8c197f18-9b18-4d1a-8fd5-0a678ebf7bbe"
      },
      "source": [
        "n=int(input())\r\n",
        "for i in range(n):\r\n",
        "    l=input()\r\n",
        "    k=[]\r\n",
        "    for j in range(len(l)):\r\n",
        "        k.append(l[-1-j])\r\n",
        "    p=int(''.join(k))\r\n",
        "    print(p)"
      ],
      "execution_count": 6,
      "outputs": [
        {
          "output_type": "stream",
          "text": [
            "3\n",
            "12345\n",
            "54321\n",
            "456789\n",
            "987654\n",
            "45672134\n",
            "43127654\n"
          ],
          "name": "stdout"
        }
      ]
    }
  ]
}