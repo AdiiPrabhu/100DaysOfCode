{
  "nbformat": 4,
  "nbformat_minor": 0,
  "metadata": {
    "colab": {
      "name": "1.ipynb",
      "provenance": [],
      "authorship_tag": "ABX9TyP3lPautJFNymAaldb9FPO0",
      "include_colab_link": true
    },
    "kernelspec": {
      "name": "python3",
      "display_name": "Python 3"
    }
  },
  "cells": [
    {
      "cell_type": "markdown",
      "metadata": {
        "id": "view-in-github",
        "colab_type": "text"
      },
      "source": [
        "<a href=\"https://colab.research.google.com/github/AdityaPrabhuCS/100DaysOfCode/blob/master/%234DayOfCode/Remainder.ipynb\" target=\"_parent\"><img src=\"https://colab.research.google.com/assets/colab-badge.svg\" alt=\"Open In Colab\"/></a>"
      ]
    },
    {
      "cell_type": "code",
      "metadata": {
        "colab": {
          "base_uri": "https://localhost:8080/"
        },
        "id": "1E_poBmWr-Zp",
        "outputId": "66253ab5-e63d-45f6-fed4-16c23e8143eb"
      },
      "source": [
        "a=int(input())\r\n",
        "for i in range(a):\r\n",
        "    x,y=map(int, input().split(\" \"))\r\n",
        "    print(x%y)"
      ],
      "execution_count": 1,
      "outputs": [
        {
          "output_type": "stream",
          "text": [
            "3\n",
            "1 2\n",
            "1\n",
            "100 20\n",
            "0\n",
            "40 15\n",
            "10\n"
          ],
          "name": "stdout"
        }
      ]
    }
  ]
}