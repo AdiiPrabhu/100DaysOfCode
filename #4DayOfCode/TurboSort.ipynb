{
  "nbformat": 4,
  "nbformat_minor": 0,
  "metadata": {
    "colab": {
      "name": "1.ipynb",
      "provenance": [],
      "authorship_tag": "ABX9TyMaSH0rvZu4fI/QYQJOtSng",
      "include_colab_link": true
    },
    "kernelspec": {
      "name": "python3",
      "display_name": "Python 3"
    }
  },
  "cells": [
    {
      "cell_type": "markdown",
      "metadata": {
        "id": "view-in-github",
        "colab_type": "text"
      },
      "source": [
        "<a href=\"https://colab.research.google.com/github/AdityaPrabhuCS/100DaysOfCode/blob/master/%234DayOfCode/TurboSort.ipynb\" target=\"_parent\"><img src=\"https://colab.research.google.com/assets/colab-badge.svg\" alt=\"Open In Colab\"/></a>"
      ]
    },
    {
      "cell_type": "code",
      "metadata": {
        "colab": {
          "base_uri": "https://localhost:8080/"
        },
        "id": "1E_poBmWr-Zp",
        "outputId": "25198fb3-5de4-4501-8719-f7c863302e7a"
      },
      "source": [
        "a=int(input())\r\n",
        "list=[]\r\n",
        "for i in range(a):\r\n",
        "    list.append(int(input()))\r\n",
        "list.sort()\r\n",
        "print(*list,sep='\\n')"
      ],
      "execution_count": 3,
      "outputs": [
        {
          "output_type": "stream",
          "text": [
            "5\n",
            "5\n",
            "3\n",
            "6\n",
            "7\n",
            "1\n",
            "1\n",
            "3\n",
            "5\n",
            "6\n",
            "7\n"
          ],
          "name": "stdout"
        }
      ]
    }
  ]
}