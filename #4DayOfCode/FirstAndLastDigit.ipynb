{
  "nbformat": 4,
  "nbformat_minor": 0,
  "metadata": {
    "colab": {
      "name": "1.ipynb",
      "provenance": [],
      "authorship_tag": "ABX9TyPAiVXTy7mR0OFlMPc7aS1t",
      "include_colab_link": true
    },
    "kernelspec": {
      "name": "python3",
      "display_name": "Python 3"
    }
  },
  "cells": [
    {
      "cell_type": "markdown",
      "metadata": {
        "id": "view-in-github",
        "colab_type": "text"
      },
      "source": [
        "<a href=\"https://colab.research.google.com/github/AdityaPrabhuCS/100DaysOfCode/blob/master/%234DayOfCode/FirstAndLastDigit.ipynb\" target=\"_parent\"><img src=\"https://colab.research.google.com/assets/colab-badge.svg\" alt=\"Open In Colab\"/></a>"
      ]
    },
    {
      "cell_type": "code",
      "metadata": {
        "colab": {
          "base_uri": "https://localhost:8080/"
        },
        "id": "1E_poBmWr-Zp",
        "outputId": "09fe2523-39c7-42e4-a244-d7fb069574f8"
      },
      "source": [
        "a=int(input())\r\n",
        "for i in range(a):\r\n",
        "    sum=0\r\n",
        "    b=input()\r\n",
        "    sum=int(b[0])+int(b[-1])\r\n",
        "    print(sum)"
      ],
      "execution_count": 4,
      "outputs": [
        {
          "output_type": "stream",
          "text": [
            "3\n",
            "1234\n",
            "5\n",
            "1234514\n",
            "5\n",
            "2549463\n",
            "5\n"
          ],
          "name": "stdout"
        }
      ]
    }
  ]
}