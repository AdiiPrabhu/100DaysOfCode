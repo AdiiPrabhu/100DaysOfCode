{
  "nbformat": 4,
  "nbformat_minor": 0,
  "metadata": {
    "colab": {
      "name": "1.ipynb",
      "provenance": [],
      "authorship_tag": "ABX9TyOyasavpRzcfiTvcvs6XBoF",
      "include_colab_link": true
    },
    "kernelspec": {
      "name": "python3",
      "display_name": "Python 3"
    }
  },
  "cells": [
    {
      "cell_type": "markdown",
      "metadata": {
        "id": "view-in-github",
        "colab_type": "text"
      },
      "source": [
        "<a href=\"https://colab.research.google.com/github/AdityaPrabhuCS/100DaysOfCode/blob/master/%234DayOfCode/SumOfDigits.ipynb\" target=\"_parent\"><img src=\"https://colab.research.google.com/assets/colab-badge.svg\" alt=\"Open In Colab\"/></a>"
      ]
    },
    {
      "cell_type": "code",
      "metadata": {
        "colab": {
          "base_uri": "https://localhost:8080/"
        },
        "id": "1E_poBmWr-Zp",
        "outputId": "3aff7a2e-3a87-4e1f-e9f3-07368a480a88"
      },
      "source": [
        "a=int(input())\r\n",
        "for i in range(a):\r\n",
        "    count=0\r\n",
        "    b=int(input())\r\n",
        "    while(b!=0):\r\n",
        "        count=count+(b%10)\r\n",
        "        b=b//10\r\n",
        "    print(count)"
      ],
      "execution_count": 3,
      "outputs": [
        {
          "output_type": "stream",
          "text": [
            "3\n",
            "12345\n",
            "15\n",
            "28546\n",
            "25\n",
            "94346\n",
            "26\n"
          ],
          "name": "stdout"
        }
      ]
    }
  ]
}