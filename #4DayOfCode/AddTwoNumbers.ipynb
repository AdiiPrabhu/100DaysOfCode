{
  "nbformat": 4,
  "nbformat_minor": 0,
  "metadata": {
    "colab": {
      "name": "1.ipynb",
      "provenance": [],
      "authorship_tag": "ABX9TyPATjohgP8I9qspI1GMsFcJ",
      "include_colab_link": true
    },
    "kernelspec": {
      "name": "python3",
      "display_name": "Python 3"
    }
  },
  "cells": [
    {
      "cell_type": "markdown",
      "metadata": {
        "id": "view-in-github",
        "colab_type": "text"
      },
      "source": [
        "<a href=\"https://colab.research.google.com/github/AdityaPrabhuCS/100DaysOfCode/blob/master/%234DayOfCode/AddTwoNumbers.ipynb\" target=\"_parent\"><img src=\"https://colab.research.google.com/assets/colab-badge.svg\" alt=\"Open In Colab\"/></a>"
      ]
    },
    {
      "cell_type": "code",
      "metadata": {
        "colab": {
          "base_uri": "https://localhost:8080/"
        },
        "id": "1E_poBmWr-Zp",
        "outputId": "69ac6d32-2ef8-4c87-a783-40380c9c8778"
      },
      "source": [
        "a=int(input())\r\n",
        "arr=[]\r\n",
        "for i in range(a):\r\n",
        "    x,y=map(int, input().split(\" \"))\r\n",
        "    print(x+y)"
      ],
      "execution_count": 1,
      "outputs": [
        {
          "output_type": "stream",
          "text": [
            "3\n",
            "1 2\n",
            "3\n",
            "100 200\n",
            "300\n",
            "400 800\n",
            "1200\n"
          ],
          "name": "stdout"
        }
      ]
    }
  ]
}