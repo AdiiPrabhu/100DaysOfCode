{
  "nbformat": 4,
  "nbformat_minor": 0,
  "metadata": {
    "colab": {
      "name": "Untitled0.ipynb",
      "provenance": [],
      "authorship_tag": "ABX9TyOSvftweybN5IQSR8E/1oal",
      "include_colab_link": true
    },
    "kernelspec": {
      "name": "python3",
      "display_name": "Python 3"
    }
  },
  "cells": [
    {
      "cell_type": "markdown",
      "metadata": {
        "id": "view-in-github",
        "colab_type": "text"
      },
      "source": [
        "<a href=\"https://colab.research.google.com/github/AdityaPrabhuCS/100DaysOfCode/blob/master/%234DayOfCode/EnormousInputTestCodechef.ipynb\" target=\"_parent\"><img src=\"https://colab.research.google.com/assets/colab-badge.svg\" alt=\"Open In Colab\"/></a>"
      ]
    },
    {
      "cell_type": "code",
      "metadata": {
        "id": "gi4DtNdLrdKe",
        "outputId": "2a7f2f2a-18cd-4233-a5d8-93e1a7de82c2",
        "colab": {
          "base_uri": "https://localhost:8080/"
        }
      },
      "source": [
        "n,k=map(int,input().split())\r\n",
        "s=0\r\n",
        "for i in range(n):\r\n",
        "    p=int(input())\r\n",
        "    if p%k==0:\r\n",
        "        s+=1\r\n",
        "print(s)"
      ],
      "execution_count": 1,
      "outputs": [
        {
          "output_type": "stream",
          "text": [
            "7 3\n",
            "1\n",
            "51\n",
            "966369\n",
            "7\n",
            "9\n",
            "999996\n",
            "11\n",
            "4\n"
          ],
          "name": "stdout"
        }
      ]
    }
  ]
}