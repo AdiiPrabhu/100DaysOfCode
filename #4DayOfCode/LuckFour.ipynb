{
  "nbformat": 4,
  "nbformat_minor": 0,
  "metadata": {
    "colab": {
      "name": "1.ipynb",
      "provenance": [],
      "authorship_tag": "ABX9TyPsjGqxEMUs92EAva6hiHoa",
      "include_colab_link": true
    },
    "kernelspec": {
      "name": "python3",
      "display_name": "Python 3"
    }
  },
  "cells": [
    {
      "cell_type": "markdown",
      "metadata": {
        "id": "view-in-github",
        "colab_type": "text"
      },
      "source": [
        "<a href=\"https://colab.research.google.com/github/AdityaPrabhuCS/100DaysOfCode/blob/master/%234DayOfCode/LuckFour.ipynb\" target=\"_parent\"><img src=\"https://colab.research.google.com/assets/colab-badge.svg\" alt=\"Open In Colab\"/></a>"
      ]
    },
    {
      "cell_type": "code",
      "metadata": {
        "colab": {
          "base_uri": "https://localhost:8080/"
        },
        "id": "1E_poBmWr-Zp",
        "outputId": "5b72f015-4c77-4c6b-a395-83c0f4536ba4"
      },
      "source": [
        "a=int(input())\r\n",
        "for i in range(a):\r\n",
        "    a=input()\r\n",
        "    count=0\r\n",
        "    for j in range(len(a)):\r\n",
        "        if int(a[j])==4:\r\n",
        "            count=count+1\r\n",
        "    print(count)"
      ],
      "execution_count": 5,
      "outputs": [
        {
          "output_type": "stream",
          "text": [
            "3\n",
            "4474474\n",
            "5\n",
            "80\n",
            "0\n",
            "40504\n",
            "2\n"
          ],
          "name": "stdout"
        }
      ]
    }
  ]
}